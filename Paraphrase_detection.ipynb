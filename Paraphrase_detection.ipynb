{
  "cells": [
    {
      "cell_type": "markdown",
      "source": [
        "Group Members     ID  \n",
        "\n",
	"Betelihem Mengist UGR/4777/12     section 1\n",
        "\n",
         "Kenna Tefera   UGR/0317/12        section 2
      ],
      "metadata": {
        "id": "NhrNyBADTxfn"
      }
    },
    {
      "cell_type": "markdown",
      "source": [
        "# Paraphrase-Detection using Bi-LSTM with Gated Relevance Network\n",
        "Paraphrase detection is the task of examining two text entities (ex. sentence) and determining whether they have the same meaning. In order to obtain high accuracy on this task, thorough syntactic and semantic analysis of the two text entities is required."
      ],
      "metadata": {
        "id": "tQQKerYRPEtZ"
      }
    },
    {
      "cell_type": "markdown",
      "source": [
        "## DataSet in use is Quora Question Pairs Dataset from Kaggle\n",
        "There are over 400,000 lines of potential question duplicate pairs. Each line contains IDs for each question in the pair, the full text for each question, and a binary value that indicates whether the line truly contains a duplicate pair."
      ],
      "metadata": {
        "id": "5vp1XYyqRQWL"
      }
    },
    {
      "cell_type": "code",
      "source": [
        "from IPython.display import IFrame\n",
        "ngrok_url = 'https://eeaf-196-190-60-111.ngrok-free.app'\n",
        "IFrame(src=ngrok_url, width='100%', height='500px')"
      ],
      "metadata": {
        "id": "E1MsbJuLQkt8",
        "colab": {
          "base_uri": "https://localhost:8080/",
          "height": 521
        },
        "outputId": "8c88df0a-2a66-4bf2-d19e-3c77fa341157"
      },
      "execution_count": null,
      "outputs": [
        {
          "output_type": "execute_result",
          "data": {
            "text/plain": [
              "<IPython.lib.display.IFrame at 0x780fccb21780>"
            ],
            "text/html": [
              "\n",
              "        <iframe\n",
              "            width=\"100%\"\n",
              "            height=\"500px\"\n",
              "            src=\"https://eeaf-196-190-60-111.ngrok-free.app\"\n",
              "            frameborder=\"0\"\n",
              "            allowfullscreen\n",
              "            \n",
              "        ></iframe>\n",
              "        "
            ]
          },
          "metadata": {},
          "execution_count": 27
        }
      ]
    },
    {
      "cell_type": "code",
      "execution_count": null,
      "metadata": {
        "id": "z530tzc90Tfi"
      },
      "outputs": [],
      "source": [
        "# Importing packages\n",
        "import json\n",
        "import pandas as pd\n",
        "import numpy as np\n",
        "import matplotlib.pyplot as plt\n",
        "# % matplotlib inline\n",
        "\n",
        "import string\n",
        "import os\n",
        "from sklearn.model_selection import train_test_split\n",
        "from tensorflow.keras.models import Sequential, Model\n",
        "from tensorflow.keras.layers import Embedding\n",
        "from tensorflow.keras.layers import Permute, dot, add, concatenate\n",
        "from tensorflow.keras.layers import LSTM, Dense, Dropout, Input, Activation,MaxPooling2D,Bidirectional,Flatten\n",
        "from tensorflow.keras.utils import to_categorical\n",
        "from tensorflow.keras.preprocessing.text import Tokenizer\n",
        "from tensorflow.keras.preprocessing.sequence import pad_sequences\n",
        "from tensorflow.keras.callbacks import ModelCheckpoint,EarlyStopping,ReduceLROnPlateau\n",
        "from tensorflow.keras import optimizers\n",
        "from tensorflow.keras.layers import Layer\n",
        "from tensorflow.keras import backend as K\n",
        "from tensorflow.keras.utils import plot_model\n",
        "from keras.utils import to_categorical\n",
        "from tensorflow.keras.callbacks import ModelCheckpoint,EarlyStopping,ReduceLROnPlateau\n",
        "from sklearn.metrics import accuracy_score, f1_score, log_loss, confusion_matrix\n",
        "import spacy\n",
        "sp = spacy.load('en_core_web_sm')\n",
        "# import nltk\n",
        "# nltk.download(\"punkt\")"
      ]
    },
    {
      "cell_type": "markdown",
      "source": [
        "## Read Dataset"
      ],
      "metadata": {
        "id": "KmI4BorkSBvj"
      }
    },
    {
      "cell_type": "code",
      "execution_count": null,
      "metadata": {
        "colab": {
          "base_uri": "https://localhost:8080/"
        },
        "id": "84-fDaON1BPf",
        "outputId": "c3e67c0e-5829-4a22-a27b-644a246c9474"
      },
      "outputs": [
        {
          "output_type": "stream",
          "name": "stdout",
          "text": [
            "Mounted at /content/drive/\n"
          ]
        }
      ],
      "source": [
        "from google.colab import drive\n",
        "drive.mount('/content/drive/')"
      ]
    },
    {
      "cell_type": "code",
      "execution_count": null,
      "metadata": {
        "colab": {
          "base_uri": "https://localhost:8080/",
          "height": 206
        },
        "id": "jgQsLhYn1jAM",
        "outputId": "2fd5c2dd-fe6a-4bbe-e52f-319a5128c662"
      },
      "outputs": [
        {
          "output_type": "execute_result",
          "data": {
            "text/plain": [
              "   id  qid1  qid2                                          question1  \\\n",
              "0   0     1     2  What is the step by step guide to invest in sh...   \n",
              "1   1     3     4  What is the story of Kohinoor (Koh-i-Noor) Dia...   \n",
              "2   2     5     6  How can I increase the speed of my internet co...   \n",
              "3   3     7     8  Why am I mentally very lonely? How can I solve...   \n",
              "4   4     9    10  Which one dissolve in water quikly sugar, salt...   \n",
              "\n",
              "                                           question2  is_duplicate  \n",
              "0  What is the step by step guide to invest in sh...             0  \n",
              "1  What would happen if the Indian government sto...             0  \n",
              "2  How can Internet speed be increased by hacking...             0  \n",
              "3  Find the remainder when [math]23^{24}[/math] i...             0  \n",
              "4            Which fish would survive in salt water?             0  "
            ],
            "text/html": [
              "\n",
              "  <div id=\"df-9b6f1c31-31a4-40c3-9abc-78016804945f\" class=\"colab-df-container\">\n",
              "    <div>\n",
              "<style scoped>\n",
              "    .dataframe tbody tr th:only-of-type {\n",
              "        vertical-align: middle;\n",
              "    }\n",
              "\n",
              "    .dataframe tbody tr th {\n",
              "        vertical-align: top;\n",
              "    }\n",
              "\n",
              "    .dataframe thead th {\n",
              "        text-align: right;\n",
              "    }\n",
              "</style>\n",
              "<table border=\"1\" class=\"dataframe\">\n",
              "  <thead>\n",
              "    <tr style=\"text-align: right;\">\n",
              "      <th></th>\n",
              "      <th>id</th>\n",
              "      <th>qid1</th>\n",
              "      <th>qid2</th>\n",
              "      <th>question1</th>\n",
              "      <th>question2</th>\n",
              "      <th>is_duplicate</th>\n",
              "    </tr>\n",
              "  </thead>\n",
              "  <tbody>\n",
              "    <tr>\n",
              "      <th>0</th>\n",
              "      <td>0</td>\n",
              "      <td>1</td>\n",
              "      <td>2</td>\n",
              "      <td>What is the step by step guide to invest in sh...</td>\n",
              "      <td>What is the step by step guide to invest in sh...</td>\n",
              "      <td>0</td>\n",
              "    </tr>\n",
              "    <tr>\n",
              "      <th>1</th>\n",
              "      <td>1</td>\n",
              "      <td>3</td>\n",
              "      <td>4</td>\n",
              "      <td>What is the story of Kohinoor (Koh-i-Noor) Dia...</td>\n",
              "      <td>What would happen if the Indian government sto...</td>\n",
              "      <td>0</td>\n",
              "    </tr>\n",
              "    <tr>\n",
              "      <th>2</th>\n",
              "      <td>2</td>\n",
              "      <td>5</td>\n",
              "      <td>6</td>\n",
              "      <td>How can I increase the speed of my internet co...</td>\n",
              "      <td>How can Internet speed be increased by hacking...</td>\n",
              "      <td>0</td>\n",
              "    </tr>\n",
              "    <tr>\n",
              "      <th>3</th>\n",
              "      <td>3</td>\n",
              "      <td>7</td>\n",
              "      <td>8</td>\n",
              "      <td>Why am I mentally very lonely? How can I solve...</td>\n",
              "      <td>Find the remainder when [math]23^{24}[/math] i...</td>\n",
              "      <td>0</td>\n",
              "    </tr>\n",
              "    <tr>\n",
              "      <th>4</th>\n",
              "      <td>4</td>\n",
              "      <td>9</td>\n",
              "      <td>10</td>\n",
              "      <td>Which one dissolve in water quikly sugar, salt...</td>\n",
              "      <td>Which fish would survive in salt water?</td>\n",
              "      <td>0</td>\n",
              "    </tr>\n",
              "  </tbody>\n",
              "</table>\n",
              "</div>\n",
              "    <div class=\"colab-df-buttons\">\n",
              "\n",
              "  <div class=\"colab-df-container\">\n",
              "    <button class=\"colab-df-convert\" onclick=\"convertToInteractive('df-9b6f1c31-31a4-40c3-9abc-78016804945f')\"\n",
              "            title=\"Convert this dataframe to an interactive table.\"\n",
              "            style=\"display:none;\">\n",
              "\n",
              "  <svg xmlns=\"http://www.w3.org/2000/svg\" height=\"24px\" viewBox=\"0 -960 960 960\">\n",
              "    <path d=\"M120-120v-720h720v720H120Zm60-500h600v-160H180v160Zm220 220h160v-160H400v160Zm0 220h160v-160H400v160ZM180-400h160v-160H180v160Zm440 0h160v-160H620v160ZM180-180h160v-160H180v160Zm440 0h160v-160H620v160Z\"/>\n",
              "  </svg>\n",
              "    </button>\n",
              "\n",
              "  <style>\n",
              "    .colab-df-container {\n",
              "      display:flex;\n",
              "      gap: 12px;\n",
              "    }\n",
              "\n",
              "    .colab-df-convert {\n",
              "      background-color: #E8F0FE;\n",
              "      border: none;\n",
              "      border-radius: 50%;\n",
              "      cursor: pointer;\n",
              "      display: none;\n",
              "      fill: #1967D2;\n",
              "      height: 32px;\n",
              "      padding: 0 0 0 0;\n",
              "      width: 32px;\n",
              "    }\n",
              "\n",
              "    .colab-df-convert:hover {\n",
              "      background-color: #E2EBFA;\n",
              "      box-shadow: 0px 1px 2px rgba(60, 64, 67, 0.3), 0px 1px 3px 1px rgba(60, 64, 67, 0.15);\n",
              "      fill: #174EA6;\n",
              "    }\n",
              "\n",
              "    .colab-df-buttons div {\n",
              "      margin-bottom: 4px;\n",
              "    }\n",
              "\n",
              "    [theme=dark] .colab-df-convert {\n",
              "      background-color: #3B4455;\n",
              "      fill: #D2E3FC;\n",
              "    }\n",
              "\n",
              "    [theme=dark] .colab-df-convert:hover {\n",
              "      background-color: #434B5C;\n",
              "      box-shadow: 0px 1px 3px 1px rgba(0, 0, 0, 0.15);\n",
              "      filter: drop-shadow(0px 1px 2px rgba(0, 0, 0, 0.3));\n",
              "      fill: #FFFFFF;\n",
              "    }\n",
              "  </style>\n",
              "\n",
              "    <script>\n",
              "      const buttonEl =\n",
              "        document.querySelector('#df-9b6f1c31-31a4-40c3-9abc-78016804945f button.colab-df-convert');\n",
              "      buttonEl.style.display =\n",
              "        google.colab.kernel.accessAllowed ? 'block' : 'none';\n",
              "\n",
              "      async function convertToInteractive(key) {\n",
              "        const element = document.querySelector('#df-9b6f1c31-31a4-40c3-9abc-78016804945f');\n",
              "        const dataTable =\n",
              "          await google.colab.kernel.invokeFunction('convertToInteractive',\n",
              "                                                    [key], {});\n",
              "        if (!dataTable) return;\n",
              "\n",
              "        const docLinkHtml = 'Like what you see? Visit the ' +\n",
              "          '<a target=\"_blank\" href=https://colab.research.google.com/notebooks/data_table.ipynb>data table notebook</a>'\n",
              "          + ' to learn more about interactive tables.';\n",
              "        element.innerHTML = '';\n",
              "        dataTable['output_type'] = 'display_data';\n",
              "        await google.colab.output.renderOutput(dataTable, element);\n",
              "        const docLink = document.createElement('div');\n",
              "        docLink.innerHTML = docLinkHtml;\n",
              "        element.appendChild(docLink);\n",
              "      }\n",
              "    </script>\n",
              "  </div>\n",
              "\n",
              "\n",
              "<div id=\"df-026f2900-ab01-45db-8dbb-9796462f984b\">\n",
              "  <button class=\"colab-df-quickchart\" onclick=\"quickchart('df-026f2900-ab01-45db-8dbb-9796462f984b')\"\n",
              "            title=\"Suggest charts\"\n",
              "            style=\"display:none;\">\n",
              "\n",
              "<svg xmlns=\"http://www.w3.org/2000/svg\" height=\"24px\"viewBox=\"0 0 24 24\"\n",
              "     width=\"24px\">\n",
              "    <g>\n",
              "        <path d=\"M19 3H5c-1.1 0-2 .9-2 2v14c0 1.1.9 2 2 2h14c1.1 0 2-.9 2-2V5c0-1.1-.9-2-2-2zM9 17H7v-7h2v7zm4 0h-2V7h2v10zm4 0h-2v-4h2v4z\"/>\n",
              "    </g>\n",
              "</svg>\n",
              "  </button>\n",
              "\n",
              "<style>\n",
              "  .colab-df-quickchart {\n",
              "      --bg-color: #E8F0FE;\n",
              "      --fill-color: #1967D2;\n",
              "      --hover-bg-color: #E2EBFA;\n",
              "      --hover-fill-color: #174EA6;\n",
              "      --disabled-fill-color: #AAA;\n",
              "      --disabled-bg-color: #DDD;\n",
              "  }\n",
              "\n",
              "  [theme=dark] .colab-df-quickchart {\n",
              "      --bg-color: #3B4455;\n",
              "      --fill-color: #D2E3FC;\n",
              "      --hover-bg-color: #434B5C;\n",
              "      --hover-fill-color: #FFFFFF;\n",
              "      --disabled-bg-color: #3B4455;\n",
              "      --disabled-fill-color: #666;\n",
              "  }\n",
              "\n",
              "  .colab-df-quickchart {\n",
              "    background-color: var(--bg-color);\n",
              "    border: none;\n",
              "    border-radius: 50%;\n",
              "    cursor: pointer;\n",
              "    display: none;\n",
              "    fill: var(--fill-color);\n",
              "    height: 32px;\n",
              "    padding: 0;\n",
              "    width: 32px;\n",
              "  }\n",
              "\n",
              "  .colab-df-quickchart:hover {\n",
              "    background-color: var(--hover-bg-color);\n",
              "    box-shadow: 0 1px 2px rgba(60, 64, 67, 0.3), 0 1px 3px 1px rgba(60, 64, 67, 0.15);\n",
              "    fill: var(--button-hover-fill-color);\n",
              "  }\n",
              "\n",
              "  .colab-df-quickchart-complete:disabled,\n",
              "  .colab-df-quickchart-complete:disabled:hover {\n",
              "    background-color: var(--disabled-bg-color);\n",
              "    fill: var(--disabled-fill-color);\n",
              "    box-shadow: none;\n",
              "  }\n",
              "\n",
              "  .colab-df-spinner {\n",
              "    border: 2px solid var(--fill-color);\n",
              "    border-color: transparent;\n",
              "    border-bottom-color: var(--fill-color);\n",
              "    animation:\n",
              "      spin 1s steps(1) infinite;\n",
              "  }\n",
              "\n",
              "  @keyframes spin {\n",
              "    0% {\n",
              "      border-color: transparent;\n",
              "      border-bottom-color: var(--fill-color);\n",
              "      border-left-color: var(--fill-color);\n",
              "    }\n",
              "    20% {\n",
              "      border-color: transparent;\n",
              "      border-left-color: var(--fill-color);\n",
              "      border-top-color: var(--fill-color);\n",
              "    }\n",
              "    30% {\n",
              "      border-color: transparent;\n",
              "      border-left-color: var(--fill-color);\n",
              "      border-top-color: var(--fill-color);\n",
              "      border-right-color: var(--fill-color);\n",
              "    }\n",
              "    40% {\n",
              "      border-color: transparent;\n",
              "      border-right-color: var(--fill-color);\n",
              "      border-top-color: var(--fill-color);\n",
              "    }\n",
              "    60% {\n",
              "      border-color: transparent;\n",
              "      border-right-color: var(--fill-color);\n",
              "    }\n",
              "    80% {\n",
              "      border-color: transparent;\n",
              "      border-right-color: var(--fill-color);\n",
              "      border-bottom-color: var(--fill-color);\n",
              "    }\n",
              "    90% {\n",
              "      border-color: transparent;\n",
              "      border-bottom-color: var(--fill-color);\n",
              "    }\n",
              "  }\n",
              "</style>\n",
              "\n",
              "  <script>\n",
              "    async function quickchart(key) {\n",
              "      const quickchartButtonEl =\n",
              "        document.querySelector('#' + key + ' button');\n",
              "      quickchartButtonEl.disabled = true;  // To prevent multiple clicks.\n",
              "      quickchartButtonEl.classList.add('colab-df-spinner');\n",
              "      try {\n",
              "        const charts = await google.colab.kernel.invokeFunction(\n",
              "            'suggestCharts', [key], {});\n",
              "      } catch (error) {\n",
              "        console.error('Error during call to suggestCharts:', error);\n",
              "      }\n",
              "      quickchartButtonEl.classList.remove('colab-df-spinner');\n",
              "      quickchartButtonEl.classList.add('colab-df-quickchart-complete');\n",
              "    }\n",
              "    (() => {\n",
              "      let quickchartButtonEl =\n",
              "        document.querySelector('#df-026f2900-ab01-45db-8dbb-9796462f984b button');\n",
              "      quickchartButtonEl.style.display =\n",
              "        google.colab.kernel.accessAllowed ? 'block' : 'none';\n",
              "    })();\n",
              "  </script>\n",
              "</div>\n",
              "\n",
              "    </div>\n",
              "  </div>\n"
            ]
          },
          "metadata": {},
          "execution_count": 4
        }
      ],
      "source": [
        "project_path = '/content/drive/My Drive/'\n",
        "data = pd.read_csv(project_path+\"questions.csv\",nrows=10000)\n",
        "data.head()"
      ]
    },
    {
      "cell_type": "markdown",
      "source": [
        "## Preprocess Data"
      ],
      "metadata": {
        "id": "dy79IKXISKxM"
      }
    },
    {
      "cell_type": "code",
      "execution_count": null,
      "metadata": {
        "id": "h7Lmd4sz1yQr"
      },
      "outputs": [],
      "source": [
        "# prepare translation table for removing punctuation\n",
        "table = str.maketrans('', '', string.punctuation)\n",
        "def clean_question(text):\n",
        "    doc = sp(text)\n",
        "    # tokenize\n",
        "    # text = text.split()\n",
        "    # Lemmatization\n",
        "    text = [token.lemma_ for token in doc]\n",
        "    # convert to lower case\n",
        "    text = [word.lower() for word in text]\n",
        "    # remove punctuation from each token\n",
        "    text = [w.translate(table) for w in text]\n",
        "    # remove hanging 's' and 'a'\n",
        "    text = [word for word in text if len(word)>1]\n",
        "    # remove tokens with numbers in them\n",
        "    text = [word for word in text if word.isalpha()]\n",
        "    # store as string\n",
        "    return ' '.join(text)"
      ]
    },
    {
      "cell_type": "code",
      "execution_count": null,
      "metadata": {
        "id": "roY0O_HD143M"
      },
      "outputs": [],
      "source": [
        "data[\"question1\"] = data[\"question1\"].apply(lambda x:clean_question(x))\n",
        "data[\"question2\"] = data[\"question2\"].apply(lambda x:clean_question(x))"
      ]
    },
    {
      "cell_type": "code",
      "execution_count": null,
      "metadata": {
        "colab": {
          "base_uri": "https://localhost:8080/",
          "height": 206
        },
        "id": "Ol7nsO2E2ATV",
        "outputId": "0361e09b-4464-4d1a-cf89-fa96f58e15cd"
      },
      "outputs": [
        {
          "output_type": "execute_result",
          "data": {
            "text/plain": [
              "   id  qid1  qid2                                          question1  \\\n",
              "0   0     1     2  what be the step by step guide to invest in sh...   \n",
              "1   1     3     4     what be the story of kohinoor koh noor diamond   \n",
              "2   2     5     6  how can increase the speed of my internet conn...   \n",
              "3   3     7     8       why be mentally very lonely how can solve it   \n",
              "4   4     9    10  which one dissolve in water quikly sugar salt ...   \n",
              "\n",
              "                                           question2  is_duplicate  \n",
              "0  what be the step by step guide to invest in sh...             0  \n",
              "1  what would happen if the indian government ste...             0  \n",
              "2  how can internet speed be increase by hack thr...             0  \n",
              "3               find the remainder when be divide by             0  \n",
              "4             which fish would survive in salt water             0  "
            ],
            "text/html": [
              "\n",
              "  <div id=\"df-0c3b154b-3c6e-451a-b996-1ff043d5a3c0\" class=\"colab-df-container\">\n",
              "    <div>\n",
              "<style scoped>\n",
              "    .dataframe tbody tr th:only-of-type {\n",
              "        vertical-align: middle;\n",
              "    }\n",
              "\n",
              "    .dataframe tbody tr th {\n",
              "        vertical-align: top;\n",
              "    }\n",
              "\n",
              "    .dataframe thead th {\n",
              "        text-align: right;\n",
              "    }\n",
              "</style>\n",
              "<table border=\"1\" class=\"dataframe\">\n",
              "  <thead>\n",
              "    <tr style=\"text-align: right;\">\n",
              "      <th></th>\n",
              "      <th>id</th>\n",
              "      <th>qid1</th>\n",
              "      <th>qid2</th>\n",
              "      <th>question1</th>\n",
              "      <th>question2</th>\n",
              "      <th>is_duplicate</th>\n",
              "    </tr>\n",
              "  </thead>\n",
              "  <tbody>\n",
              "    <tr>\n",
              "      <th>0</th>\n",
              "      <td>0</td>\n",
              "      <td>1</td>\n",
              "      <td>2</td>\n",
              "      <td>what be the step by step guide to invest in sh...</td>\n",
              "      <td>what be the step by step guide to invest in sh...</td>\n",
              "      <td>0</td>\n",
              "    </tr>\n",
              "    <tr>\n",
              "      <th>1</th>\n",
              "      <td>1</td>\n",
              "      <td>3</td>\n",
              "      <td>4</td>\n",
              "      <td>what be the story of kohinoor koh noor diamond</td>\n",
              "      <td>what would happen if the indian government ste...</td>\n",
              "      <td>0</td>\n",
              "    </tr>\n",
              "    <tr>\n",
              "      <th>2</th>\n",
              "      <td>2</td>\n",
              "      <td>5</td>\n",
              "      <td>6</td>\n",
              "      <td>how can increase the speed of my internet conn...</td>\n",
              "      <td>how can internet speed be increase by hack thr...</td>\n",
              "      <td>0</td>\n",
              "    </tr>\n",
              "    <tr>\n",
              "      <th>3</th>\n",
              "      <td>3</td>\n",
              "      <td>7</td>\n",
              "      <td>8</td>\n",
              "      <td>why be mentally very lonely how can solve it</td>\n",
              "      <td>find the remainder when be divide by</td>\n",
              "      <td>0</td>\n",
              "    </tr>\n",
              "    <tr>\n",
              "      <th>4</th>\n",
              "      <td>4</td>\n",
              "      <td>9</td>\n",
              "      <td>10</td>\n",
              "      <td>which one dissolve in water quikly sugar salt ...</td>\n",
              "      <td>which fish would survive in salt water</td>\n",
              "      <td>0</td>\n",
              "    </tr>\n",
              "  </tbody>\n",
              "</table>\n",
              "</div>\n",
              "    <div class=\"colab-df-buttons\">\n",
              "\n",
              "  <div class=\"colab-df-container\">\n",
              "    <button class=\"colab-df-convert\" onclick=\"convertToInteractive('df-0c3b154b-3c6e-451a-b996-1ff043d5a3c0')\"\n",
              "            title=\"Convert this dataframe to an interactive table.\"\n",
              "            style=\"display:none;\">\n",
              "\n",
              "  <svg xmlns=\"http://www.w3.org/2000/svg\" height=\"24px\" viewBox=\"0 -960 960 960\">\n",
              "    <path d=\"M120-120v-720h720v720H120Zm60-500h600v-160H180v160Zm220 220h160v-160H400v160Zm0 220h160v-160H400v160ZM180-400h160v-160H180v160Zm440 0h160v-160H620v160ZM180-180h160v-160H180v160Zm440 0h160v-160H620v160Z\"/>\n",
              "  </svg>\n",
              "    </button>\n",
              "\n",
              "  <style>\n",
              "    .colab-df-container {\n",
              "      display:flex;\n",
              "      gap: 12px;\n",
              "    }\n",
              "\n",
              "    .colab-df-convert {\n",
              "      background-color: #E8F0FE;\n",
              "      border: none;\n",
              "      border-radius: 50%;\n",
              "      cursor: pointer;\n",
              "      display: none;\n",
              "      fill: #1967D2;\n",
              "      height: 32px;\n",
              "      padding: 0 0 0 0;\n",
              "      width: 32px;\n",
              "    }\n",
              "\n",
              "    .colab-df-convert:hover {\n",
              "      background-color: #E2EBFA;\n",
              "      box-shadow: 0px 1px 2px rgba(60, 64, 67, 0.3), 0px 1px 3px 1px rgba(60, 64, 67, 0.15);\n",
              "      fill: #174EA6;\n",
              "    }\n",
              "\n",
              "    .colab-df-buttons div {\n",
              "      margin-bottom: 4px;\n",
              "    }\n",
              "\n",
              "    [theme=dark] .colab-df-convert {\n",
              "      background-color: #3B4455;\n",
              "      fill: #D2E3FC;\n",
              "    }\n",
              "\n",
              "    [theme=dark] .colab-df-convert:hover {\n",
              "      background-color: #434B5C;\n",
              "      box-shadow: 0px 1px 3px 1px rgba(0, 0, 0, 0.15);\n",
              "      filter: drop-shadow(0px 1px 2px rgba(0, 0, 0, 0.3));\n",
              "      fill: #FFFFFF;\n",
              "    }\n",
              "  </style>\n",
              "\n",
              "    <script>\n",
              "      const buttonEl =\n",
              "        document.querySelector('#df-0c3b154b-3c6e-451a-b996-1ff043d5a3c0 button.colab-df-convert');\n",
              "      buttonEl.style.display =\n",
              "        google.colab.kernel.accessAllowed ? 'block' : 'none';\n",
              "\n",
              "      async function convertToInteractive(key) {\n",
              "        const element = document.querySelector('#df-0c3b154b-3c6e-451a-b996-1ff043d5a3c0');\n",
              "        const dataTable =\n",
              "          await google.colab.kernel.invokeFunction('convertToInteractive',\n",
              "                                                    [key], {});\n",
              "        if (!dataTable) return;\n",
              "\n",
              "        const docLinkHtml = 'Like what you see? Visit the ' +\n",
              "          '<a target=\"_blank\" href=https://colab.research.google.com/notebooks/data_table.ipynb>data table notebook</a>'\n",
              "          + ' to learn more about interactive tables.';\n",
              "        element.innerHTML = '';\n",
              "        dataTable['output_type'] = 'display_data';\n",
              "        await google.colab.output.renderOutput(dataTable, element);\n",
              "        const docLink = document.createElement('div');\n",
              "        docLink.innerHTML = docLinkHtml;\n",
              "        element.appendChild(docLink);\n",
              "      }\n",
              "    </script>\n",
              "  </div>\n",
              "\n",
              "\n",
              "<div id=\"df-67f35f46-416b-4820-9048-18db28019ebb\">\n",
              "  <button class=\"colab-df-quickchart\" onclick=\"quickchart('df-67f35f46-416b-4820-9048-18db28019ebb')\"\n",
              "            title=\"Suggest charts\"\n",
              "            style=\"display:none;\">\n",
              "\n",
              "<svg xmlns=\"http://www.w3.org/2000/svg\" height=\"24px\"viewBox=\"0 0 24 24\"\n",
              "     width=\"24px\">\n",
              "    <g>\n",
              "        <path d=\"M19 3H5c-1.1 0-2 .9-2 2v14c0 1.1.9 2 2 2h14c1.1 0 2-.9 2-2V5c0-1.1-.9-2-2-2zM9 17H7v-7h2v7zm4 0h-2V7h2v10zm4 0h-2v-4h2v4z\"/>\n",
              "    </g>\n",
              "</svg>\n",
              "  </button>\n",
              "\n",
              "<style>\n",
              "  .colab-df-quickchart {\n",
              "      --bg-color: #E8F0FE;\n",
              "      --fill-color: #1967D2;\n",
              "      --hover-bg-color: #E2EBFA;\n",
              "      --hover-fill-color: #174EA6;\n",
              "      --disabled-fill-color: #AAA;\n",
              "      --disabled-bg-color: #DDD;\n",
              "  }\n",
              "\n",
              "  [theme=dark] .colab-df-quickchart {\n",
              "      --bg-color: #3B4455;\n",
              "      --fill-color: #D2E3FC;\n",
              "      --hover-bg-color: #434B5C;\n",
              "      --hover-fill-color: #FFFFFF;\n",
              "      --disabled-bg-color: #3B4455;\n",
              "      --disabled-fill-color: #666;\n",
              "  }\n",
              "\n",
              "  .colab-df-quickchart {\n",
              "    background-color: var(--bg-color);\n",
              "    border: none;\n",
              "    border-radius: 50%;\n",
              "    cursor: pointer;\n",
              "    display: none;\n",
              "    fill: var(--fill-color);\n",
              "    height: 32px;\n",
              "    padding: 0;\n",
              "    width: 32px;\n",
              "  }\n",
              "\n",
              "  .colab-df-quickchart:hover {\n",
              "    background-color: var(--hover-bg-color);\n",
              "    box-shadow: 0 1px 2px rgba(60, 64, 67, 0.3), 0 1px 3px 1px rgba(60, 64, 67, 0.15);\n",
              "    fill: var(--button-hover-fill-color);\n",
              "  }\n",
              "\n",
              "  .colab-df-quickchart-complete:disabled,\n",
              "  .colab-df-quickchart-complete:disabled:hover {\n",
              "    background-color: var(--disabled-bg-color);\n",
              "    fill: var(--disabled-fill-color);\n",
              "    box-shadow: none;\n",
              "  }\n",
              "\n",
              "  .colab-df-spinner {\n",
              "    border: 2px solid var(--fill-color);\n",
              "    border-color: transparent;\n",
              "    border-bottom-color: var(--fill-color);\n",
              "    animation:\n",
              "      spin 1s steps(1) infinite;\n",
              "  }\n",
              "\n",
              "  @keyframes spin {\n",
              "    0% {\n",
              "      border-color: transparent;\n",
              "      border-bottom-color: var(--fill-color);\n",
              "      border-left-color: var(--fill-color);\n",
              "    }\n",
              "    20% {\n",
              "      border-color: transparent;\n",
              "      border-left-color: var(--fill-color);\n",
              "      border-top-color: var(--fill-color);\n",
              "    }\n",
              "    30% {\n",
              "      border-color: transparent;\n",
              "      border-left-color: var(--fill-color);\n",
              "      border-top-color: var(--fill-color);\n",
              "      border-right-color: var(--fill-color);\n",
              "    }\n",
              "    40% {\n",
              "      border-color: transparent;\n",
              "      border-right-color: var(--fill-color);\n",
              "      border-top-color: var(--fill-color);\n",
              "    }\n",
              "    60% {\n",
              "      border-color: transparent;\n",
              "      border-right-color: var(--fill-color);\n",
              "    }\n",
              "    80% {\n",
              "      border-color: transparent;\n",
              "      border-right-color: var(--fill-color);\n",
              "      border-bottom-color: var(--fill-color);\n",
              "    }\n",
              "    90% {\n",
              "      border-color: transparent;\n",
              "      border-bottom-color: var(--fill-color);\n",
              "    }\n",
              "  }\n",
              "</style>\n",
              "\n",
              "  <script>\n",
              "    async function quickchart(key) {\n",
              "      const quickchartButtonEl =\n",
              "        document.querySelector('#' + key + ' button');\n",
              "      quickchartButtonEl.disabled = true;  // To prevent multiple clicks.\n",
              "      quickchartButtonEl.classList.add('colab-df-spinner');\n",
              "      try {\n",
              "        const charts = await google.colab.kernel.invokeFunction(\n",
              "            'suggestCharts', [key], {});\n",
              "      } catch (error) {\n",
              "        console.error('Error during call to suggestCharts:', error);\n",
              "      }\n",
              "      quickchartButtonEl.classList.remove('colab-df-spinner');\n",
              "      quickchartButtonEl.classList.add('colab-df-quickchart-complete');\n",
              "    }\n",
              "    (() => {\n",
              "      let quickchartButtonEl =\n",
              "        document.querySelector('#df-67f35f46-416b-4820-9048-18db28019ebb button');\n",
              "      quickchartButtonEl.style.display =\n",
              "        google.colab.kernel.accessAllowed ? 'block' : 'none';\n",
              "    })();\n",
              "  </script>\n",
              "</div>\n",
              "\n",
              "    </div>\n",
              "  </div>\n"
            ]
          },
          "metadata": {},
          "execution_count": 8
        }
      ],
      "source": [
        "data.head()"
      ]
    },
    {
      "cell_type": "markdown",
      "source": [
        "## Feature Extraction"
      ],
      "metadata": {
        "id": "UawTgM0uSYXh"
      }
    },
    {
      "cell_type": "code",
      "execution_count": null,
      "metadata": {
        "colab": {
          "base_uri": "https://localhost:8080/"
        },
        "id": "grKISDhC3Biu",
        "outputId": "a14687bc-00b5-4cca-f596-bd8d6dcc080c"
      },
      "outputs": [
        {
          "output_type": "stream",
          "name": "stdout",
          "text": [
            "Vocabulary Size: 17792\n"
          ]
        }
      ],
      "source": [
        "# fit a tokenizer with questions\n",
        "tokenizer = Tokenizer()\n",
        "tokenizer.fit_on_texts(data[\"question1\"].values+data[\"question2\"].values)\n",
        "vocab_size = len(tokenizer.word_index) + 1\n",
        "print('Vocabulary Size: %d' % vocab_size)"
      ]
    },
    {
      "cell_type": "code",
      "execution_count": null,
      "metadata": {
        "id": "ttS3j3WT3I11"
      },
      "outputs": [],
      "source": [
        "# create sequences\n",
        "max_len = 25\n",
        "q1_texts_seq = tokenizer.texts_to_sequences(data[\"question1\"].values)\n",
        "q2_texts_seq = tokenizer.texts_to_sequences(data[\"question2\"].values)\n",
        "\n",
        "q1_texts_seq = pad_sequences(q1_texts_seq,maxlen=max_len)\n",
        "q2_texts_seq = pad_sequences(q2_texts_seq,maxlen=max_len)"
      ]
    },
    {
      "cell_type": "code",
      "execution_count": null,
      "metadata": {
        "colab": {
          "base_uri": "https://localhost:8080/"
        },
        "id": "SXxo0D_M6-FR",
        "outputId": "62171bea-9777-4fdb-b9bf-028bce17806b"
      },
      "outputs": [
        {
          "output_type": "stream",
          "name": "stdout",
          "text": [
            "Requirement already satisfied: requests in /usr/local/lib/python3.10/dist-packages (2.31.0)\n",
            "Requirement already satisfied: charset-normalizer<4,>=2 in /usr/local/lib/python3.10/dist-packages (from requests) (3.3.2)\n",
            "Requirement already satisfied: idna<4,>=2.5 in /usr/local/lib/python3.10/dist-packages (from requests) (3.6)\n",
            "Requirement already satisfied: urllib3<3,>=1.21.1 in /usr/local/lib/python3.10/dist-packages (from requests) (2.0.7)\n",
            "Requirement already satisfied: certifi>=2017.4.17 in /usr/local/lib/python3.10/dist-packages (from requests) (2023.11.17)\n"
          ]
        }
      ],
      "source": [
        "pip install requests"
      ]
    },
    {
      "cell_type": "code",
      "execution_count": null,
      "metadata": {
        "colab": {
          "base_uri": "https://localhost:8080/"
        },
        "id": "sCo4aEcKAtNe",
        "outputId": "ee676fd9-c826-487b-8839-d05ba2f851af"
      },
      "outputs": [
        {
          "output_type": "stream",
          "name": "stdout",
          "text": [
            "GloVe embeddings downloaded to: datasets/glove.zip\n"
          ]
        }
      ],
      "source": [
        "import requests\n",
        "import os\n",
        "\n",
        "# Specify the URL to download GloVe embeddings (6B version)\n",
        "glove_url = \"https://nlp.stanford.edu/data/glove.6B.zip\"\n",
        "\n",
        "# Specify the local directory to save the downloaded file\n",
        "download_dir = \"datasets/\"\n",
        "os.makedirs(download_dir, exist_ok=True)\n",
        "\n",
        "# Specify the local file path\n",
        "local_file_path = os.path.join(download_dir, \"glove.zip\")\n",
        "\n",
        "# Download GloVe embeddings ZIP file\n",
        "response = requests.get(glove_url, stream=True)\n",
        "with open(local_file_path, 'wb') as file:\n",
        "    for chunk in response.iter_content(chunk_size=1024):\n",
        "        if chunk:\n",
        "            file.write(chunk)\n",
        "\n",
        "print(f\"GloVe embeddings downloaded to: {local_file_path}\")\n"
      ]
    },
    {
      "cell_type": "code",
      "execution_count": null,
      "metadata": {
        "id": "V3AQNqtZBlmA"
      },
      "outputs": [],
      "source": [
        "if os.path.isdir('glove') == False:\n",
        "    os.mkdir('glove')\n",
        "\n",
        "glove_dir = \"datasets/\"\n",
        "from zipfile import ZipFile\n",
        "with ZipFile(glove_dir+'glove.zip', 'r') as z:\n",
        "  z.extractall(\"glove\")"
      ]
    },
    {
      "cell_type": "code",
      "execution_count": null,
      "metadata": {
        "colab": {
          "base_uri": "https://localhost:8080/"
        },
        "id": "NDMN0-sKCFAX",
        "outputId": "d81f44ad-13f5-4260-f48d-39ef7fa81645"
      },
      "outputs": [
        {
          "output_type": "stream",
          "name": "stdout",
          "text": [
            "Found 400000 word vectors.\n"
          ]
        }
      ],
      "source": [
        "# Load Glove vectors\n",
        "embeddings_index = {} # empty dictionary\n",
        "f = open(os.path.join(\"glove/\", 'glove.6B.200d.txt'), encoding=\"utf-8\")\n",
        "\n",
        "for line in f:\n",
        "    values = line.split()\n",
        "    word = values[0]\n",
        "    coefs = np.asarray(values[1:], dtype='float32')\n",
        "    embeddings_index[word] = coefs\n",
        "f.close()\n",
        "print('Found %s word vectors.' % len(embeddings_index))"
      ]
    },
    {
      "cell_type": "code",
      "execution_count": null,
      "metadata": {
        "id": "yD_5mWlBCO5a"
      },
      "outputs": [],
      "source": [
        "embedding_dim = 200\n",
        "\n",
        "# Get 200-dim dense vector for each of the 10000 words in out vocabulary\n",
        "embedding_matrix = np.zeros((vocab_size, embedding_dim))\n",
        "\n",
        "for word, i in tokenizer.word_index.items():\n",
        "    #if i < max_words:\n",
        "    embedding_vector = embeddings_index.get(word)\n",
        "    if embedding_vector is not None:\n",
        "        # Words not found in the embedding index will be all zeros\n",
        "        embedding_matrix[i] = embedding_vector"
      ]
    },
    {
      "cell_type": "code",
      "execution_count": null,
      "metadata": {
        "id": "GqBcfRtRCkkc"
      },
      "outputs": [],
      "source": [
        "X = np.stack((q1_texts_seq, q2_texts_seq), axis=1)\n",
        "y = data[\"is_duplicate\"].values"
      ]
    },
    {
      "cell_type": "code",
      "execution_count": null,
      "metadata": {
        "id": "dwaV8jRTCoai"
      },
      "outputs": [],
      "source": [
        "X_train, X_test, y_train, y_test = train_test_split(X, y, test_size=0.2, random_state=42)"
      ]
    },
    {
      "cell_type": "code",
      "execution_count": null,
      "metadata": {
        "id": "EE3HMS1SCsf5"
      },
      "outputs": [],
      "source": [
        "# Get Question 1/2  train and test features\n",
        "q1_X_train = X_train[:,0]\n",
        "q2_X_train = X_train[:,1]\n",
        "\n",
        "q1_X_test = X_test[:,0]\n",
        "q2_X_test = X_test[:,1]"
      ]
    },
    {
      "cell_type": "markdown",
      "source": [
        "## Build Model\n",
        "\n",
        "Lets build **Bidirectional Long Short-Term Memory with Gated Relevance Network** for Paraphrase Detection"
      ],
      "metadata": {
        "id": "iY5ALLHSSmh3"
      }
    },
    {
      "cell_type": "code",
      "execution_count": null,
      "metadata": {
        "id": "jwVTopqjC10R"
      },
      "outputs": [],
      "source": [
        "class GatedRelevanceNetwork(Layer):\n",
        "    def __init__(self, output_dim,\n",
        "            weights_initializer=\"glorot_uniform\",\n",
        "            bias_initializer=\"zeros\", **kwargs):\n",
        "        self.output_dim = output_dim\n",
        "        self.weights_initializer = weights_initializer\n",
        "        self.bias_initializer = bias_initializer\n",
        "        super(GatedRelevanceNetwork, self).__init__(**kwargs)\n",
        "\n",
        "    def build(self, input_shape):\n",
        "        batch_size, len1, emb_dim = input_shape[0]\n",
        "        _, len2, _ = input_shape[1]\n",
        "        # Weights initialization\n",
        "        # Bilinear Tensor Product weights\n",
        "        self.Wb = self.add_weight(name='weights_btp',\n",
        "                                  shape=(self.output_dim, emb_dim, emb_dim),\n",
        "                                  initializer=self.weights_initializer,\n",
        "                                  trainable=True)\n",
        "\n",
        "        # Single Layer Network weights\n",
        "        self.Wd = self.add_weight(name='weights_sln',\n",
        "                                  shape=(2*emb_dim, self.output_dim),\n",
        "                                  initializer=self.weights_initializer,\n",
        "                                  trainable=True)\n",
        "\n",
        "        # Gate weights\n",
        "        self.Wg = self.add_weight(name='weights_gate',\n",
        "                                  shape=(2*emb_dim, self.output_dim),\n",
        "                                  initializer=self.weights_initializer,\n",
        "                                  trainable=True)\n",
        "\n",
        "        # Gate bias\n",
        "        self.bg = self.add_weight(name='bias_gate',\n",
        "                                  shape=(self.output_dim,),\n",
        "                                  initializer=self.bias_initializer,\n",
        "                                  trainable=True)\n",
        "\n",
        "        # General bias\n",
        "        self.b = self.add_weight(name='bias',\n",
        "                                 shape=(self.output_dim,),\n",
        "                                 initializer=self.bias_initializer,\n",
        "                                 trainable=True)\n",
        "\n",
        "        # Channel weights\n",
        "        self.u = self.add_weight(name=\"channel_weights\",\n",
        "                                 shape=(self.output_dim, 1),\n",
        "                                 initializer=self.weights_initializer,\n",
        "                                 trainable=True)\n",
        "\n",
        "        super(GatedRelevanceNetwork, self).build(input_shape)\n",
        "\n",
        "    def call(self, x):\n",
        "        e1 = x[0]\n",
        "        e2 = x[1]\n",
        "\n",
        "        batch_size = K.shape(e1)[0]\n",
        "        # Usually len1 = len2 = max_seq_length\n",
        "        _, len1, emb_dim = K.int_shape(e1)\n",
        "        _, len2, _ = K.int_shape(e2)\n",
        "\n",
        "        # Repeating the matrices to generate all the combinations\n",
        "        ne1 = K.reshape(K.repeat_elements(K.expand_dims(e1, axis=2), len2, axis=2),\n",
        "                       (batch_size, len1*len2, emb_dim))\n",
        "        ne2 = K.reshape(K.repeat_elements(K.expand_dims(e2, axis=1), len1, axis=1),\n",
        "                       (batch_size, len1*len2, emb_dim))\n",
        "\n",
        "        # Repeating the second matrix to use in Bilinear Tensor Product\n",
        "        ne2_k = K.repeat_elements(K.expand_dims(ne2, axis=-1), self.output_dim, axis=-1)\n",
        "\n",
        "        # Bilinear tensor product\n",
        "        btp = K.sum(ne2_k * K.permute_dimensions(K.dot(ne1, self.Wb), (0,1,3,2)), axis=2)\n",
        "        btp = K.reshape(btp, (batch_size, len1, len2, self.output_dim))\n",
        "\n",
        "        # Concatenating inputs to apply Single Layer Network\n",
        "        e = K.concatenate([ne1, ne2], axis=-1)\n",
        "\n",
        "        # Single Layer Network\n",
        "        #sln = K.relu(K.dot(e, self.Wd))\n",
        "        sln = K.tanh(K.dot(e, self.Wd))\n",
        "        sln = K.reshape(sln, (batch_size, len1, len2, self.output_dim))\n",
        "\n",
        "        # Gate\n",
        "        g = K.sigmoid(K.dot(e, self.Wg) + self.bg)\n",
        "        g = K.reshape(g, (batch_size, len1, len2, self.output_dim))\n",
        "\n",
        "        # Gated Relevance Network\n",
        "        #s = K.reshape(K.dot(g*btp + (1-g)*sln + self.b, self.u), (batch_size, len1, len2))\n",
        "        s = K.dot(g*btp + (1-g)*sln + self.b, self.u)\n",
        "\n",
        "        return s\n",
        "\n",
        "    def compute_output_shape(self, input_shape):\n",
        "        shape1 = input_shape[0]\n",
        "        shape2 = input_shape[1]\n",
        "        return (shape1[0], shape1[1], shape2[1], 1)"
      ]
    },
    {
      "cell_type": "code",
      "execution_count": null,
      "metadata": {
        "id": "Ae0y6WHkC6-G"
      },
      "outputs": [],
      "source": [
        "def create_model(input_shape,\n",
        "                      embeddings_dim, embeddings_matrix, vocab_size,\n",
        "                      max_seq_length, trainable_embeddings, dropout,\n",
        "                      lstm_hidden_units, attention_channels, pool_size,\n",
        "                      fc_hidden_units):\n",
        "\n",
        "    X1_input = Input(input_shape, name=\"input_X1\")\n",
        "    X2_input = Input(input_shape, name=\"input_X2\")\n",
        "\n",
        "    # Encoding the inputs using the same weights\n",
        "    # Output shape: (batch_size, max_seq_length, lstm_hidden_units)\n",
        "    embeddor = Embedding(vocab_size,\n",
        "                    embeddings_dim,\n",
        "                    weights=[embeddings_matrix],\n",
        "                    input_length=input_shape[0],\n",
        "                    trainable=trainable_embeddings,\n",
        "                    mask_zero=False)\n",
        "    X1 = embeddor(X1_input)\n",
        "    X2 = embeddor(X2_input)\n",
        "\n",
        "    encoder = Bidirectional(LSTM(lstm_hidden_units, return_sequences=True))\n",
        "\n",
        "    # Output shape: (batch_size, max_seq_length, lstm_hidden_units)\n",
        "    X1_encoded = encoder(X1)\n",
        "    X2_encoded = encoder(X2)\n",
        "\n",
        "    # Attention matrix\n",
        "    # Output shape: (batch_size, max_seq_length, max_seq_length, 1)\n",
        "    X = GatedRelevanceNetwork(attention_channels, name=\"grn\")([X1_encoded, X2_encoded])\n",
        "    #X = BatchNormalization()(X)\n",
        "\n",
        "    # Non-overlapping 2D max pooling\n",
        "    # Output shape: (batch_size, pooled_rows, pooled_cols, 1)\n",
        "    print(\"shape before pool\", X.shape)\n",
        "    X = MaxPooling2D(pool_size=(pool_size, pool_size),\n",
        "                        strides=(pool_size, pool_size),\n",
        "                        padding='valid',\n",
        "                        data_format=\"channels_last\",\n",
        "                        name=\"max_pool\")(X)\n",
        "    X = Flatten()(X)\n",
        "\n",
        "    # Multi-Layer Perceptron\n",
        "    #X = Dropout(dropout)(X)\n",
        "    X = Dense(fc_hidden_units, activation=\"tanh\", name=\"mlp\")(X)\n",
        "    X = Dropout(dropout)(X)\n",
        "    X = Dense(2, activation=\"softmax\", name=\"output\")(X)\n",
        "\n",
        "    model = Model(inputs=[X1_input, X2_input], outputs=X, name=\"GRN_model\")\n",
        "    # Compiling model\n",
        "    #optimizer = optimizers.Adam(lr=0.001)\n",
        "    optimizer = optimizers.RMSprop()\n",
        "    model.compile(optimizer=optimizer,\n",
        "                loss=\"binary_crossentropy\",\n",
        "                metrics=[\"accuracy\"])\n",
        "    return model"
      ]
    },
    {
      "cell_type": "code",
      "execution_count": null,
      "metadata": {
        "id": "2JyKXqwgC9GM"
      },
      "outputs": [],
      "source": [
        "dropout = 0.5\n",
        "trainable_embeddings = False\n",
        "lstm_hidden_units = 50\n",
        "attention_channels = 2\n",
        "pool_size = 3\n",
        "fc_hidden_units = 128\n",
        "use_class_weight = False\n",
        "input_shape = (max_len,)\n",
        "model = create_model(input_shape,\n",
        "                      embedding_dim, embedding_matrix, vocab_size,\n",
        "                      max_len, trainable_embeddings, dropout,\n",
        "                      lstm_hidden_units, attention_channels, pool_size,\n",
        "                      fc_hidden_units)\n",
        "model.summary()"
      ]
    },
    {
      "cell_type": "code",
      "execution_count": null,
      "metadata": {
        "colab": {
          "base_uri": "https://localhost:8080/",
          "height": 976
        },
        "id": "oDJeiPt5DQ0z",
        "outputId": "78aca739-d6fa-4cb2-8fec-9f85f98d2861"
      },
      "outputs": [
        {
          "output_type": "execute_result",
          "data": {
            "image/png": "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\n",
            "text/plain": [
              "<IPython.core.display.Image object>"
            ]
          },
          "metadata": {},
          "execution_count": 21
        }
      ],
      "source": [
        "plot_model(model, to_file='model.png', show_shapes=True)\n"
      ]
    },
    {
      "cell_type": "code",
      "execution_count": null,
      "metadata": {
        "colab": {
          "base_uri": "https://localhost:8080/"
        },
        "id": "yDobVsZ5DfEK",
        "outputId": "f2b23b5c-a52f-4d1e-c5e2-4b195d6a8455"
      },
      "outputs": [
        {
          "output_type": "stream",
          "name": "stdout",
          "text": [
            "Epoch 1/30\n",
            "125/125 [==============================] - 56s 395ms/step - loss: 0.6383 - accuracy: 0.6364 - val_loss: 0.6130 - val_accuracy: 0.6580 - lr: 0.0010\n",
            "Epoch 2/30\n",
            "125/125 [==============================] - 49s 390ms/step - loss: 0.5946 - accuracy: 0.6769 - val_loss: 0.5892 - val_accuracy: 0.6855 - lr: 0.0010\n",
            "Epoch 3/30\n",
            "125/125 [==============================] - 54s 435ms/step - loss: 0.5559 - accuracy: 0.7103 - val_loss: 0.5783 - val_accuracy: 0.7010 - lr: 0.0010\n",
            "Epoch 4/30\n",
            "125/125 [==============================] - 47s 381ms/step - loss: 0.5202 - accuracy: 0.7331 - val_loss: 0.5793 - val_accuracy: 0.7050 - lr: 0.0010\n",
            "Epoch 5/30\n",
            "125/125 [==============================] - 54s 432ms/step - loss: 0.4763 - accuracy: 0.7602 - val_loss: 0.6094 - val_accuracy: 0.6950 - lr: 0.0010\n",
            "Epoch 6/30\n",
            "125/125 [==============================] - 49s 389ms/step - loss: 0.4271 - accuracy: 0.7956 - val_loss: 0.6374 - val_accuracy: 0.6785 - lr: 0.0010\n",
            "Epoch 7/30\n",
            "125/125 [==============================] - 48s 381ms/step - loss: 0.3720 - accuracy: 0.8249 - val_loss: 0.6871 - val_accuracy: 0.6780 - lr: 0.0010\n",
            "Epoch 8/30\n",
            "125/125 [==============================] - 54s 435ms/step - loss: 0.3135 - accuracy: 0.8585 - val_loss: 0.8350 - val_accuracy: 0.6545 - lr: 0.0010\n",
            "Epoch 9/30\n",
            "125/125 [==============================] - 53s 421ms/step - loss: 0.2584 - accuracy: 0.8866 - val_loss: 0.8853 - val_accuracy: 0.6765 - lr: 0.0010\n",
            "Epoch 10/30\n",
            "125/125 [==============================] - 58s 462ms/step - loss: 0.2099 - accuracy: 0.9093 - val_loss: 0.9406 - val_accuracy: 0.6905 - lr: 0.0010\n",
            "Epoch 11/30\n",
            "125/125 [==============================] - 48s 381ms/step - loss: 0.1616 - accuracy: 0.9345 - val_loss: 1.1212 - val_accuracy: 0.6680 - lr: 0.0010\n",
            "Epoch 12/30\n",
            "125/125 [==============================] - 48s 388ms/step - loss: 0.1361 - accuracy: 0.9466 - val_loss: 1.2722 - val_accuracy: 0.6590 - lr: 0.0010\n",
            "Epoch 13/30\n",
            "125/125 [==============================] - 51s 410ms/step - loss: 0.1125 - accuracy: 0.9561 - val_loss: 1.4320 - val_accuracy: 0.6680 - lr: 0.0010\n",
            "Epoch 14/30\n",
            "125/125 [==============================] - 47s 377ms/step - loss: 0.0884 - accuracy: 0.9655 - val_loss: 1.5177 - val_accuracy: 0.6710 - lr: 0.0010\n",
            "Epoch 15/30\n",
            "125/125 [==============================] - 47s 379ms/step - loss: 0.0714 - accuracy: 0.9726 - val_loss: 1.7376 - val_accuracy: 0.6625 - lr: 0.0010\n",
            "Epoch 16/30\n",
            "125/125 [==============================] - 48s 388ms/step - loss: 0.0630 - accuracy: 0.9764 - val_loss: 1.7922 - val_accuracy: 0.6700 - lr: 0.0010\n",
            "Epoch 17/30\n",
            "125/125 [==============================] - 55s 436ms/step - loss: 0.0597 - accuracy: 0.9779 - val_loss: 1.9586 - val_accuracy: 0.6730 - lr: 0.0010\n",
            "Epoch 18/30\n",
            "125/125 [==============================] - 47s 380ms/step - loss: 0.0508 - accuracy: 0.9834 - val_loss: 1.9476 - val_accuracy: 0.6655 - lr: 0.0010\n",
            "Epoch 19/30\n",
            "125/125 [==============================] - 52s 419ms/step - loss: 0.0432 - accuracy: 0.9865 - val_loss: 2.2582 - val_accuracy: 0.6610 - lr: 0.0010\n",
            "Epoch 20/30\n",
            "125/125 [==============================] - 50s 397ms/step - loss: 0.0432 - accuracy: 0.9852 - val_loss: 2.2545 - val_accuracy: 0.6680 - lr: 0.0010\n",
            "Epoch 21/30\n",
            "125/125 [==============================] - 52s 416ms/step - loss: 0.0324 - accuracy: 0.9895 - val_loss: 2.5176 - val_accuracy: 0.6590 - lr: 0.0010\n",
            "Epoch 22/30\n",
            "125/125 [==============================] - 58s 469ms/step - loss: 0.0405 - accuracy: 0.9885 - val_loss: 2.3793 - val_accuracy: 0.6700 - lr: 0.0010\n",
            "Epoch 23/30\n",
            "125/125 [==============================] - 47s 376ms/step - loss: 0.0361 - accuracy: 0.9877 - val_loss: 2.4344 - val_accuracy: 0.6685 - lr: 0.0010\n",
            "Epoch 24/30\n",
            "125/125 [==============================] - 48s 387ms/step - loss: 0.0311 - accuracy: 0.9898 - val_loss: 2.4945 - val_accuracy: 0.6695 - lr: 0.0010\n",
            "Epoch 25/30\n",
            "125/125 [==============================] - 51s 408ms/step - loss: 0.0298 - accuracy: 0.9899 - val_loss: 2.5245 - val_accuracy: 0.6690 - lr: 0.0010\n",
            "Epoch 26/30\n",
            "125/125 [==============================] - 49s 388ms/step - loss: 0.0282 - accuracy: 0.9891 - val_loss: 2.6858 - val_accuracy: 0.6595 - lr: 0.0010\n",
            "Epoch 27/30\n",
            "125/125 [==============================] - 47s 378ms/step - loss: 0.0268 - accuracy: 0.9916 - val_loss: 2.6344 - val_accuracy: 0.6765 - lr: 0.0010\n",
            "Epoch 28/30\n",
            "125/125 [==============================] - 49s 396ms/step - loss: 0.0271 - accuracy: 0.9906 - val_loss: 2.6019 - val_accuracy: 0.6745 - lr: 0.0010\n",
            "Epoch 29/30\n",
            "125/125 [==============================] - 54s 434ms/step - loss: 0.0217 - accuracy: 0.9923 - val_loss: 2.7634 - val_accuracy: 0.6655 - lr: 0.0010\n",
            "Epoch 30/30\n",
            "125/125 [==============================] - 47s 380ms/step - loss: 0.0229 - accuracy: 0.9941 - val_loss: 2.8378 - val_accuracy: 0.6685 - lr: 0.0010\n"
          ]
        }
      ],
      "source": [
        "# Defining a helper function to save the model after each epoch\n",
        "# in which the loss decreases\n",
        "# filepath = project_path+'model_paraprase_detection_pad.h5'\n",
        "# checkpoint = ModelCheckpoint(filepath, monitor='val_loss', verbose=1, save_best_only=True, mode='min')\n",
        "# Defining a helper function to reduce the learning rate each time\n",
        "# the learning plateaus\n",
        "reduce_alpha = ReduceLROnPlateau(monitor ='val_loss', factor = 0.2, patience = 1, min_lr = 0.001)\n",
        "# stop traning if there increase in loss\n",
        "# es = EarlyStopping(monitor='val_loss', mode='min', verbose=1,patience=2)\n",
        "callbacks = [reduce_alpha]\n",
        "epochs = 30\n",
        "batch_size = 64\n",
        "history = model.fit(x=[q1_X_train, q2_X_train],\n",
        "                    y=to_categorical(y_train),\n",
        "                    epochs=epochs,\n",
        "                    batch_size=batch_size,\n",
        "                    validation_data=([q1_X_test, q2_X_test], to_categorical(y_test)),callbacks=callbacks)"
      ]
    },
    {
      "cell_type": "code",
      "execution_count": null,
      "metadata": {
        "id": "rLKgWIXGMye8",
        "colab": {
          "base_uri": "https://localhost:8080/"
        },
        "outputId": "dd6ff1a5-4d15-4c8c-882f-9b73ed4ea0aa"
      },
      "outputs": [
        {
          "output_type": "stream",
          "name": "stderr",
          "text": [
            "/usr/local/lib/python3.10/dist-packages/keras/src/engine/training.py:3103: UserWarning: You are saving your model as an HDF5 file via `model.save()`. This file format is considered legacy. We recommend using instead the native Keras format, e.g. `model.save('my_model.keras')`.\n",
            "  saving_api.save_model(\n"
          ]
        }
      ],
      "source": [
        "filepath = '/content/drive/My Drive/model_parahprase_detection.h5'  # Update the path accordingly\n",
        "model.save(filepath)"
      ]
    },
    {
      "cell_type": "code",
      "execution_count": null,
      "metadata": {
        "colab": {
          "base_uri": "https://localhost:8080/"
        },
        "id": "NlkFYa1mM6sK",
        "outputId": "61202ca3-b4ff-4107-bea0-45506659fb2e"
      },
      "outputs": [
        {
          "output_type": "stream",
          "name": "stdout",
          "text": [
            "Evaluation (loss, acc)\n",
            "63/63 [==============================] - 7s 104ms/step - loss: 2.8378 - accuracy: 0.6685\n",
            "loss: 2.8378   acc: 0.6685\n",
            "63/63 [==============================] - 5s 62ms/step\n",
            "f1: 0.5535\n",
            "confusion matrix\n",
            "[[926 331]\n",
            " [332 411]]\n"
          ]
        }
      ],
      "source": [
        "print(\"Evaluation (loss, acc)\")\n",
        "loss, acc = model.evaluate(x=[q1_X_test, q2_X_test], y=to_categorical(y_test))\n",
        "print(\"loss: {:.4f}   acc: {:.4f}\".format(loss, acc))\n",
        "pred = np.argmax(model.predict(x=[q1_X_test, q2_X_test]), axis=1)\n",
        "f1 = f1_score(y_test, pred)\n",
        "print(\"f1: {:.4f}\".format(f1))\n",
        "print(\"confusion matrix\")\n",
        "cf_mat = confusion_matrix(y_test, pred)\n",
        "print(cf_mat)"
      ]
    },
    {
      "cell_type": "code",
      "source": [
        "!pip install flask\n",
        "!pip install flask-ngrok\n",
        "\n",
        "from flask import Flask, request, jsonify, render_template\n",
        "from flask_ngrok import run_with_ngrok\n",
        "from tensorflow.keras.models import load_model\n",
        "from tensorflow.keras.preprocessing.sequence import pad_sequences\n",
        "import spacy\n",
        "import numpy as np\n",
        "import pickle\n",
        "import tensorflow as tf\n",
        "\n",
        "app = Flask(__name__)\n",
        "run_with_ngrok(app)\n",
        "\n",
        "# Load the paraphrase detection model\n",
        "model_path = '/content/drive/My Drive/model_parahprase_detection.h5'  # Update the path accordingly\n",
        "model = tf.keras.models.load_model(model_path)\n",
        "\n",
        "# Load spacy model for text cleaning\n",
        "sp = spacy.load('en_core_web_sm')\n",
        "\n",
        "# Maximum sequence length for padding\n",
        "max_len = 25\n",
        "\n",
        "def clean_question(text):\n",
        "    doc = sp(text)\n",
        "    text = [token.lemma_ for token in doc]\n",
        "    text = [word.lower() for word in text]\n",
        "    text = [w.translate(table) for w in text]\n",
        "    text = [word for word in text if len(word) > 1]\n",
        "    text = [word for word in text if word.isalpha()]\n",
        "    return ' '.join(text)\n",
        "\n",
        "def preprocess_text(text):\n",
        "    cleaned_text = clean_question(text)\n",
        "    sequence = tokenizer.texts_to_sequences([cleaned_text])\n",
        "    padded_sequence = pad_sequences(sequence, maxlen=max_len)\n",
        "    return padded_sequence\n",
        "\n",
        "@app.route('/')\n",
        "def index():\n",
        "    return render_template('index.html', ngrok_url=ngrok_url)\n",
        "\n",
        "@app.route('/paraphrase_detection', methods=['POST'])\n",
        "def predict_paraphrase():\n",
        "    data = request.get_json()\n",
        "    question1 = data.get('question1', '')\n",
        "    question2 = data.get('question2', '')\n",
        "\n",
        "    # Preprocess the input text\n",
        "    q1_sequence = preprocess_text(question1)\n",
        "    q2_sequence = preprocess_text(question2)\n",
        "\n",
        "    # Make prediction using the loaded model\n",
        "    prediction = model.predict([q1_sequence, q2_sequence])[0]\n",
        "    result = {'is_paraphrase': bool(np.argmax(prediction))}\n",
        "\n",
        "    return jsonify(result)\n",
        "\n",
        "if __name__ == '__main__':\n",
        "    app.run()\n"
      ],
      "metadata": {
        "id": "t1K3AlkJ5Rx3",
        "colab": {
          "base_uri": "https://localhost:8080/",
          "height": 789
        },
        "outputId": "d2b22c84-04c6-46e6-d99d-fc83831f2983"
      },
      "execution_count": null,
      "outputs": [
        {
          "output_type": "stream",
          "name": "stdout",
          "text": [
            "Requirement already satisfied: flask in /usr/local/lib/python3.10/dist-packages (2.2.5)\n",
            "Requirement already satisfied: Werkzeug>=2.2.2 in /usr/local/lib/python3.10/dist-packages (from flask) (3.0.1)\n",
            "Requirement already satisfied: Jinja2>=3.0 in /usr/local/lib/python3.10/dist-packages (from flask) (3.1.3)\n",
            "Requirement already satisfied: itsdangerous>=2.0 in /usr/local/lib/python3.10/dist-packages (from flask) (2.1.2)\n",
            "Requirement already satisfied: click>=8.0 in /usr/local/lib/python3.10/dist-packages (from flask) (8.1.7)\n",
            "Requirement already satisfied: MarkupSafe>=2.0 in /usr/local/lib/python3.10/dist-packages (from Jinja2>=3.0->flask) (2.1.4)\n",
            "Collecting flask-ngrok\n",
            "  Downloading flask_ngrok-0.0.25-py3-none-any.whl (3.1 kB)\n",
            "Requirement already satisfied: Flask>=0.8 in /usr/local/lib/python3.10/dist-packages (from flask-ngrok) (2.2.5)\n",
            "Requirement already satisfied: requests in /usr/local/lib/python3.10/dist-packages (from flask-ngrok) (2.31.0)\n",
            "Requirement already satisfied: Werkzeug>=2.2.2 in /usr/local/lib/python3.10/dist-packages (from Flask>=0.8->flask-ngrok) (3.0.1)\n",
            "Requirement already satisfied: Jinja2>=3.0 in /usr/local/lib/python3.10/dist-packages (from Flask>=0.8->flask-ngrok) (3.1.3)\n",
            "Requirement already satisfied: itsdangerous>=2.0 in /usr/local/lib/python3.10/dist-packages (from Flask>=0.8->flask-ngrok) (2.1.2)\n",
            "Requirement already satisfied: click>=8.0 in /usr/local/lib/python3.10/dist-packages (from Flask>=0.8->flask-ngrok) (8.1.7)\n",
            "Requirement already satisfied: charset-normalizer<4,>=2 in /usr/local/lib/python3.10/dist-packages (from requests->flask-ngrok) (3.3.2)\n",
            "Requirement already satisfied: idna<4,>=2.5 in /usr/local/lib/python3.10/dist-packages (from requests->flask-ngrok) (3.6)\n",
            "Requirement already satisfied: urllib3<3,>=1.21.1 in /usr/local/lib/python3.10/dist-packages (from requests->flask-ngrok) (2.0.7)\n",
            "Requirement already satisfied: certifi>=2017.4.17 in /usr/local/lib/python3.10/dist-packages (from requests->flask-ngrok) (2023.11.17)\n",
            "Requirement already satisfied: MarkupSafe>=2.0 in /usr/local/lib/python3.10/dist-packages (from Jinja2>=3.0->Flask>=0.8->flask-ngrok) (2.1.4)\n",
            "Installing collected packages: flask-ngrok\n",
            "Successfully installed flask-ngrok-0.0.25\n"
          ]
        },
        {
          "output_type": "error",
          "ename": "ValueError",
          "evalue": "Unknown layer: 'GatedRelevanceNetwork'. Please ensure you are using a `keras.utils.custom_object_scope` and that this object is included in the scope. See https://www.tensorflow.org/guide/keras/save_and_serialize#registering_the_custom_object for details.",
          "traceback": [
            "\u001b[0;31m---------------------------------------------------------------------------\u001b[0m",
            "\u001b[0;31mValueError\u001b[0m                                Traceback (most recent call last)",
            "\u001b[0;32m<ipython-input-26-abb25c9c438f>\u001b[0m in \u001b[0;36m<cell line: 18>\u001b[0;34m()\u001b[0m\n\u001b[1;32m     16\u001b[0m \u001b[0;31m# Load the paraphrase detection model\u001b[0m\u001b[0;34m\u001b[0m\u001b[0;34m\u001b[0m\u001b[0m\n\u001b[1;32m     17\u001b[0m \u001b[0mmodel_path\u001b[0m \u001b[0;34m=\u001b[0m \u001b[0;34m'/content/drive/My Drive/model_parahprase_detection.h5'\u001b[0m  \u001b[0;31m# Update the path accordingly\u001b[0m\u001b[0;34m\u001b[0m\u001b[0;34m\u001b[0m\u001b[0m\n\u001b[0;32m---> 18\u001b[0;31m \u001b[0mmodel\u001b[0m \u001b[0;34m=\u001b[0m \u001b[0mtf\u001b[0m\u001b[0;34m.\u001b[0m\u001b[0mkeras\u001b[0m\u001b[0;34m.\u001b[0m\u001b[0mmodels\u001b[0m\u001b[0;34m.\u001b[0m\u001b[0mload_model\u001b[0m\u001b[0;34m(\u001b[0m\u001b[0mmodel_path\u001b[0m\u001b[0;34m)\u001b[0m\u001b[0;34m\u001b[0m\u001b[0;34m\u001b[0m\u001b[0m\n\u001b[0m\u001b[1;32m     19\u001b[0m \u001b[0;34m\u001b[0m\u001b[0m\n\u001b[1;32m     20\u001b[0m \u001b[0;31m# Load spacy model for text cleaning\u001b[0m\u001b[0;34m\u001b[0m\u001b[0;34m\u001b[0m\u001b[0m\n",
            "\u001b[0;32m/usr/local/lib/python3.10/dist-packages/keras/src/saving/saving_api.py\u001b[0m in \u001b[0;36mload_model\u001b[0;34m(filepath, custom_objects, compile, safe_mode, **kwargs)\u001b[0m\n\u001b[1;32m    260\u001b[0m \u001b[0;34m\u001b[0m\u001b[0m\n\u001b[1;32m    261\u001b[0m     \u001b[0;31m# Legacy case.\u001b[0m\u001b[0;34m\u001b[0m\u001b[0;34m\u001b[0m\u001b[0m\n\u001b[0;32m--> 262\u001b[0;31m     return legacy_sm_saving_lib.load_model(\n\u001b[0m\u001b[1;32m    263\u001b[0m         \u001b[0mfilepath\u001b[0m\u001b[0;34m,\u001b[0m \u001b[0mcustom_objects\u001b[0m\u001b[0;34m=\u001b[0m\u001b[0mcustom_objects\u001b[0m\u001b[0;34m,\u001b[0m \u001b[0mcompile\u001b[0m\u001b[0;34m=\u001b[0m\u001b[0mcompile\u001b[0m\u001b[0;34m,\u001b[0m \u001b[0;34m**\u001b[0m\u001b[0mkwargs\u001b[0m\u001b[0;34m\u001b[0m\u001b[0;34m\u001b[0m\u001b[0m\n\u001b[1;32m    264\u001b[0m     )\n",
            "\u001b[0;32m/usr/local/lib/python3.10/dist-packages/keras/src/utils/traceback_utils.py\u001b[0m in \u001b[0;36merror_handler\u001b[0;34m(*args, **kwargs)\u001b[0m\n\u001b[1;32m     68\u001b[0m             \u001b[0;31m# To get the full stack trace, call:\u001b[0m\u001b[0;34m\u001b[0m\u001b[0;34m\u001b[0m\u001b[0m\n\u001b[1;32m     69\u001b[0m             \u001b[0;31m# `tf.debugging.disable_traceback_filtering()`\u001b[0m\u001b[0;34m\u001b[0m\u001b[0;34m\u001b[0m\u001b[0m\n\u001b[0;32m---> 70\u001b[0;31m             \u001b[0;32mraise\u001b[0m \u001b[0me\u001b[0m\u001b[0;34m.\u001b[0m\u001b[0mwith_traceback\u001b[0m\u001b[0;34m(\u001b[0m\u001b[0mfiltered_tb\u001b[0m\u001b[0;34m)\u001b[0m \u001b[0;32mfrom\u001b[0m \u001b[0;32mNone\u001b[0m\u001b[0;34m\u001b[0m\u001b[0;34m\u001b[0m\u001b[0m\n\u001b[0m\u001b[1;32m     71\u001b[0m         \u001b[0;32mfinally\u001b[0m\u001b[0;34m:\u001b[0m\u001b[0;34m\u001b[0m\u001b[0;34m\u001b[0m\u001b[0m\n\u001b[1;32m     72\u001b[0m             \u001b[0;32mdel\u001b[0m \u001b[0mfiltered_tb\u001b[0m\u001b[0;34m\u001b[0m\u001b[0;34m\u001b[0m\u001b[0m\n",
            "\u001b[0;32m/usr/local/lib/python3.10/dist-packages/keras/src/saving/legacy/serialization.py\u001b[0m in \u001b[0;36mclass_and_config_for_serialized_keras_object\u001b[0;34m(config, module_objects, custom_objects, printable_module_name)\u001b[0m\n\u001b[1;32m    363\u001b[0m     )\n\u001b[1;32m    364\u001b[0m     \u001b[0;32mif\u001b[0m \u001b[0mcls\u001b[0m \u001b[0;32mis\u001b[0m \u001b[0;32mNone\u001b[0m\u001b[0;34m:\u001b[0m\u001b[0;34m\u001b[0m\u001b[0;34m\u001b[0m\u001b[0m\n\u001b[0;32m--> 365\u001b[0;31m         raise ValueError(\n\u001b[0m\u001b[1;32m    366\u001b[0m             \u001b[0;34mf\"Unknown {printable_module_name}: '{class_name}'. \"\u001b[0m\u001b[0;34m\u001b[0m\u001b[0;34m\u001b[0m\u001b[0m\n\u001b[1;32m    367\u001b[0m             \u001b[0;34m\"Please ensure you are using a `keras.utils.custom_object_scope` \"\u001b[0m\u001b[0;34m\u001b[0m\u001b[0;34m\u001b[0m\u001b[0m\n",
            "\u001b[0;31mValueError\u001b[0m: Unknown layer: 'GatedRelevanceNetwork'. Please ensure you are using a `keras.utils.custom_object_scope` and that this object is included in the scope. See https://www.tensorflow.org/guide/keras/save_and_serialize#registering_the_custom_object for details."
          ]
        }
      ]
    }
  ],
  "metadata": {
    "colab": {
      "provenance": []
    },
    "kernelspec": {
      "display_name": "Python 3",
      "name": "python3"
    },
    "language_info": {
      "name": "python"
    }
  },
  "nbformat": 4,
  "nbformat_minor": 0
}